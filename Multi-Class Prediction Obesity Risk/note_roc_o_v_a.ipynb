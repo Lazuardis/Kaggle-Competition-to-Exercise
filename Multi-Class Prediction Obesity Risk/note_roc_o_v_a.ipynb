{
 "cells": [
  {
   "cell_type": "markdown",
   "metadata": {},
   "source": [
    "#### How do we evaluate Multiclass classification using ROC AUC?"
   ]
  },
  {
   "cell_type": "markdown",
   "metadata": {},
   "source": [
    "Evaluating a multiclass classification model using the ROC AUC metric is indeed possible and often quite informative, but it requires a different approach than the typical binary classification case. The ROC AUC (Receiver Operating Characteristic Area Under the Curve) is primarily designed for binary classification problems. However, it can be extended to handle multiclass classification by using strategies like One-vs-Rest (OvR) or One-vs-One (OvO).\n",
    "\n",
    "One-vs-Rest (OvR)\n",
    "In the One-vs-Rest approach, the ROC AUC is calculated for each class against all other classes. Essentially, you treat each class as a binary classification problem (the class vs. all others), compute the ROC AUC individually, and then average these scores. This method is more commonly used due to its simplicity.\n",
    "\n",
    "One-vs-One (OvO)\n",
    "The One-vs-One method involves computing the ROC AUC for every pair of classes, which can be computationally expensive for datasets with many classes"
   ]
  },
  {
   "cell_type": "markdown",
   "metadata": {},
   "source": [
    "This time, we use OvR.\n",
    "However, since we do not have test set that is actually containing target variable, the ROC evaluation will only be to a 'proxy model' supposedly could represent the current optimal model that is splitted and take the split as now the test data"
   ]
  },
  {
   "cell_type": "code",
   "execution_count": 80,
   "metadata": {},
   "outputs": [
    {
     "name": "stderr",
     "output_type": "stream",
     "text": [
      "c:\\Users\\Zak\\anaconda3\\lib\\site-packages\\sklearn\\utils\\validation.py:993: DataConversionWarning: A column-vector y was passed when a 1d array was expected. Please change the shape of y to (n_samples, ), for example using ravel().\n",
      "  y = column_or_1d(y, warn=True)\n"
     ]
    }
   ],
   "source": [
    "# this makes us need to go backwards in process, redefine the train data and test data, and create proxy model of it\n",
    "\n",
    "from sklearn.metrics import roc_auc_score\n",
    "from sklearn.preprocessing import label_binarize\n",
    "from sklearn.model_selection import train_test_split\n",
    "\n",
    "\n",
    "\n",
    "\n",
    "X_train, X_test, y_train, y_test = train_test_split(train_drop_X, train_drop_y, test_size=0.2, random_state=42)\n",
    "\n",
    "# Initialize classifier\n",
    "\n",
    "proxy_model = LogisticRegression(C= 100, penalty= 'l2', solver = 'newton-cg', multi_class='ovr', max_iter = 10000)\n",
    "\n",
    "# Train model\n",
    "proxy_model.fit(X_train, y_train)\n",
    "\n",
    "# Predict probabilities\n",
    "y_score_proxy = proxy_model.predict_proba(X_test)\n",
    "\n"
   ]
  },
  {
   "cell_type": "code",
   "execution_count": 81,
   "metadata": {},
   "outputs": [
    {
     "data": {
      "text/plain": [
       "array([[1.17598525e-09, 1.68558504e-02, 1.22267167e-01, ...,\n",
       "        7.85180672e-01, 3.92660381e-02, 3.63875969e-02],\n",
       "       [6.59828925e-04, 4.56775397e-01, 2.31624642e-02, ...,\n",
       "        1.31220105e-10, 4.33685560e-01, 8.57107863e-02],\n",
       "       [4.24191577e-05, 2.22495493e-01, 2.87460402e-01, ...,\n",
       "        3.54558263e-02, 2.39483099e-01, 2.15062751e-01],\n",
       "       ...,\n",
       "       [2.63163093e-06, 6.32234182e-02, 5.46696242e-01, ...,\n",
       "        1.16298493e-05, 2.11544150e-01, 1.78521919e-01],\n",
       "       [2.78137571e-05, 3.20903598e-02, 2.93149168e-01, ...,\n",
       "        2.91541857e-11, 2.11004436e-01, 4.50140535e-01],\n",
       "       [7.68186406e-05, 1.16495582e-01, 3.77748148e-01, ...,\n",
       "        2.80422042e-11, 2.20940134e-01, 2.84515091e-01]])"
      ]
     },
     "execution_count": 81,
     "metadata": {},
     "output_type": "execute_result"
    }
   ],
   "source": [
    "y_score_proxy"
   ]
  },
  {
   "cell_type": "code",
   "execution_count": 85,
   "metadata": {},
   "outputs": [
    {
     "name": "stderr",
     "output_type": "stream",
     "text": [
      "c:\\Users\\Zak\\anaconda3\\lib\\site-packages\\sklearn\\preprocessing\\_label.py:115: DataConversionWarning: A column-vector y was passed when a 1d array was expected. Please change the shape of y to (n_samples, ), for example using ravel().\n",
      "  y = column_or_1d(y, warn=True)\n"
     ]
    }
   ],
   "source": [
    "from sklearn.preprocessing import LabelEncoder\n",
    "\n",
    "encoder = LabelEncoder()\n",
    "y_test = encoder.fit_transform(y_test)"
   ]
  },
  {
   "cell_type": "code",
   "execution_count": 86,
   "metadata": {},
   "outputs": [
    {
     "data": {
      "text/plain": [
       "array([4, 5, 2, ..., 2, 5, 6])"
      ]
     },
     "execution_count": 86,
     "metadata": {},
     "output_type": "execute_result"
    }
   ],
   "source": [
    "y_test"
   ]
  },
  {
   "cell_type": "code",
   "execution_count": 87,
   "metadata": {},
   "outputs": [
    {
     "name": "stdout",
     "output_type": "stream",
     "text": [
      "ROC AUC (One-vs-Rest): 0.9323140105702024\n"
     ]
    }
   ],
   "source": [
    "# Compute ROC AUC for each class\n",
    "roc_auc = roc_auc_score(y_test, y_score_proxy, multi_class='ovr')\n",
    "print(\"ROC AUC (One-vs-Rest):\", roc_auc)"
   ]
  },
  {
   "cell_type": "code",
   "execution_count": 58,
   "metadata": {},
   "outputs": [
    {
     "data": {
      "text/html": [
       "<div>\n",
       "<style scoped>\n",
       "    .dataframe tbody tr th:only-of-type {\n",
       "        vertical-align: middle;\n",
       "    }\n",
       "\n",
       "    .dataframe tbody tr th {\n",
       "        vertical-align: top;\n",
       "    }\n",
       "\n",
       "    .dataframe thead th {\n",
       "        text-align: right;\n",
       "    }\n",
       "</style>\n",
       "<table border=\"1\" class=\"dataframe\">\n",
       "  <thead>\n",
       "    <tr style=\"text-align: right;\">\n",
       "      <th></th>\n",
       "      <th>id</th>\n",
       "      <th>NObeyesdad</th>\n",
       "    </tr>\n",
       "  </thead>\n",
       "  <tbody>\n",
       "    <tr>\n",
       "      <th>0</th>\n",
       "      <td>20758</td>\n",
       "      <td>Obesity_Type_II</td>\n",
       "    </tr>\n",
       "    <tr>\n",
       "      <th>1</th>\n",
       "      <td>20759</td>\n",
       "      <td>Overweight_Level_I</td>\n",
       "    </tr>\n",
       "    <tr>\n",
       "      <th>2</th>\n",
       "      <td>20760</td>\n",
       "      <td>Obesity_Type_III</td>\n",
       "    </tr>\n",
       "    <tr>\n",
       "      <th>3</th>\n",
       "      <td>20761</td>\n",
       "      <td>Obesity_Type_II</td>\n",
       "    </tr>\n",
       "    <tr>\n",
       "      <th>4</th>\n",
       "      <td>20762</td>\n",
       "      <td>Obesity_Type_III</td>\n",
       "    </tr>\n",
       "  </tbody>\n",
       "</table>\n",
       "</div>"
      ],
      "text/plain": [
       "      id          NObeyesdad\n",
       "0  20758     Obesity_Type_II\n",
       "1  20759  Overweight_Level_I\n",
       "2  20760    Obesity_Type_III\n",
       "3  20761     Obesity_Type_II\n",
       "4  20762    Obesity_Type_III"
      ]
     },
     "execution_count": 58,
     "metadata": {},
     "output_type": "execute_result"
    }
   ],
   "source": [
    "result = test\n",
    "\n",
    "result['NObeyesdad'] = y_pred\n",
    "result = result[['id','NObeyesdad']] \n",
    "result.head()"
   ]
  },
  {
   "cell_type": "code",
   "execution_count": 59,
   "metadata": {},
   "outputs": [
    {
     "name": "stdout",
     "output_type": "stream",
     "text": [
      "               NObeyesdad\n",
      "id                       \n",
      "20758     Obesity_Type_II\n",
      "20759  Overweight_Level_I\n",
      "20760    Obesity_Type_III\n",
      "20761     Obesity_Type_II\n",
      "20762    Obesity_Type_III\n",
      "(13840, 1)\n"
     ]
    }
   ],
   "source": [
    "result.set_index('id', inplace=True)\n",
    "print(result.head())\n",
    "print(result.shape)"
   ]
  },
  {
   "cell_type": "code",
   "execution_count": 60,
   "metadata": {},
   "outputs": [],
   "source": [
    "result.to_csv('submission_1.csv')"
   ]
  },
  {
   "cell_type": "code",
   "execution_count": null,
   "metadata": {},
   "outputs": [],
   "source": []
  }
 ],
 "metadata": {
  "kernelspec": {
   "display_name": "base",
   "language": "python",
   "name": "python3"
  },
  "language_info": {
   "codemirror_mode": {
    "name": "ipython",
    "version": 3
   },
   "file_extension": ".py",
   "mimetype": "text/x-python",
   "name": "python",
   "nbconvert_exporter": "python",
   "pygments_lexer": "ipython3",
   "version": "3.10.9"
  }
 },
 "nbformat": 4,
 "nbformat_minor": 2
}
